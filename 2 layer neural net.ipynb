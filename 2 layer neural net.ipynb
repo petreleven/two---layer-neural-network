{
 "cells": [
  {
   "cell_type": "code",
   "execution_count": 37,
   "metadata": {},
   "outputs": [
    {
     "name": "stdout",
     "output_type": "stream",
     "text": [
      "Error: 0.6342311598444467\n",
      "Error: 0.35838407676317513\n",
      "Error: 0.0830183113303298\n",
      "Error: 0.006467054957103705\n",
      "Error: 0.0003292669000750734\n",
      "Error: 1.5055622665134859e-05\n"
     ]
    }
   ],
   "source": [
    "import numpy as np\n",
    "\n",
    "streetlights = np.array( [[ 1, 0, 1 ],                          \n",
    "                          [ 0, 1, 1 ],                          \n",
    "                          [ 0, 0, 1 ],                          \n",
    "                          [ 1, 1, 1 ] ] )\n",
    "\n",
    "walk_vs_stop = np.array([[ 1, 1, 0, 0]]).T\n",
    "\n",
    "np.random.seed(1)\n",
    "\n",
    "def relu(x):\n",
    "    return (x > 0) * x\n",
    "\n",
    "def relu2Deriv(output):\n",
    "    return (output > 0)\n",
    "    \n",
    "alpha = 0.2\n",
    "hidden_layer_size = 4\n",
    "weights_01 = 2 * np.random.random((3,hidden_layer_size)) - 1\n",
    "weights_02 = 2 * np.random.random((hidden_layer_size,1)) -1\n",
    "\n",
    "\n",
    "layer_2_errors = 0\n",
    "\n",
    "for iteration in range (60):\n",
    "    layer_2_errors = 0\n",
    "    for i in range (len(streetlights)):\n",
    "        layer_0 = streetlights[i:i+1]\n",
    "        layer_1 = relu(np.dot(layer_0,weights_01))\n",
    "        layer_2 = np.dot(layer_1,weights_02)\n",
    "\n",
    "        layer_2_errors += (np.sum(layer_2 - walk_vs_stop[i:i+1])) ** 2\n",
    "\n",
    "        layer_2_delta = (walk_vs_stop[i:i+1] - layer_2)\n",
    "        layer_1_delta = layer_2_delta.dot(weights_02.T) * relu2Deriv(layer_1)\n",
    "\n",
    "        #weights_01_delta =  layer_0.T.dot(layer_1_delta) \n",
    "        weights_01 += (alpha * layer_0.T.dot(layer_1_delta))\n",
    "        weights_02 += (alpha *  layer_1.T.dot(layer_2_delta))\n",
    "\n",
    "    if iteration %  10 == 9:  \n",
    "        print(\"Error: \" + str(layer_2_errors))\n",
    "        \n",
    "\n",
    "\n",
    "\n"
   ]
  }
 ],
 "metadata": {
  "kernelspec": {
   "display_name": "Python 3",
   "language": "python",
   "name": "python3"
  },
  "language_info": {
   "codemirror_mode": {
    "name": "ipython",
    "version": 3
   },
   "file_extension": ".py",
   "mimetype": "text/x-python",
   "name": "python",
   "nbconvert_exporter": "python",
   "pygments_lexer": "ipython3",
   "version": "3.7.6"
  }
 },
 "nbformat": 4,
 "nbformat_minor": 4
}
